{
 "cells": [
  {
   "cell_type": "markdown",
   "source": [
    "# Linear Regression practice\r\n",
    "Linear regression practice using the car price prediction problem."
   ],
   "metadata": {}
  },
  {
   "cell_type": "code",
   "execution_count": 1,
   "source": [
    "import pandas as pd\r\n",
    "import numpy as np"
   ],
   "outputs": [],
   "metadata": {}
  },
  {
   "cell_type": "markdown",
   "source": [],
   "metadata": {}
  }
 ],
 "metadata": {
  "orig_nbformat": 4,
  "language_info": {
   "name": "python",
   "version": "3.7.11",
   "mimetype": "text/x-python",
   "codemirror_mode": {
    "name": "ipython",
    "version": 3
   },
   "pygments_lexer": "ipython3",
   "nbconvert_exporter": "python",
   "file_extension": ".py"
  },
  "kernelspec": {
   "name": "python3",
   "display_name": "Python 3.7.4 64-bit ('tensorflow_cpu': conda)"
  },
  "interpreter": {
   "hash": "e834002f52595e8126d24d35207cec6fbefe2e3dc79a1cb49bf1d664a4bb24b9"
  }
 },
 "nbformat": 4,
 "nbformat_minor": 2
}