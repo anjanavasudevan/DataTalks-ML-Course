{
 "cells": [
  {
   "cell_type": "markdown",
   "source": [
    "# Classification example\r\n",
    "\r\n",
    "Churn prediction problem:\r\n",
    "* Loss of subscription base for a company - loss of customers\r\n",
    "\r\n",
    "Classification example with certain modifications."
   ],
   "metadata": {}
  }
 ],
 "metadata": {
  "orig_nbformat": 4,
  "language_info": {
   "name": "python"
  }
 },
 "nbformat": 4,
 "nbformat_minor": 2
}